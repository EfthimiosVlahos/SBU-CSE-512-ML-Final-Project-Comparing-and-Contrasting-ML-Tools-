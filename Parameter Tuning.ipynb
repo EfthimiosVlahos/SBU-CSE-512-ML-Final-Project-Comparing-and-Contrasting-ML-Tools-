{
 "cells": [
  {
   "cell_type": "code",
   "execution_count": 4,
   "metadata": {},
   "outputs": [
    {
     "name": "stdout",
     "output_type": "stream",
     "text": [
      "Best Parameters: {'C': 100, 'gamma': 0.001, 'kernel': 'poly'}\n",
      "Best Score: 0.9952305764411029\n",
      "Runtime (sec.): 11.514869928359985\n"
     ]
    }
   ],
   "source": [
    "import time\n",
    "start = time.time()\n",
    "\n",
    "import pandas as pd\n",
    "import numpy as np\n",
    "from sklearn.model_selection import train_test_split\n",
    "from sklearn import preprocessing\n",
    "from sklearn.svm import SVC\n",
    "from sklearn.experimental import enable_halving_search_cv\n",
    "from sklearn.model_selection import HalvingGridSearchCV\n",
    "\n",
    "\n",
    "\n",
    "#df = pd.read_csv(\"/gpfs/scratch/mcirrito/CSE512_Final_Project/numerical_data.csv\")\n",
    "df = pd.read_csv(\"numerical_data.csv\")\n",
    "y = np.array(df['gender'])\n",
    "X = df.drop('gender',axis=1)\n",
    "num_feat = X.shape[1]\n",
    "\n",
    "X_train, X_test, y_train, y_test = train_test_split( X, y, test_size=0.2, random_state=42)\n",
    "\n",
    "le = preprocessing.LabelEncoder()\n",
    "le.fit(y_train)\n",
    "y_train=le.transform(y_train)\n",
    "\n",
    "\n",
    "    \n",
    "param_grid_poly = [{'C': [0.1,10,20,30,40,50,60,70,80,90,100], 'gamma': [10,1,0.1,0.01,0.001,0.0001], 'kernel': ['poly']},]\n",
    "\n",
    "\n",
    "svc = SVC()\n",
    "halving_cv_poly = HalvingGridSearchCV(\n",
    "    svc, param_grid_poly, scoring=\"roc_auc\", n_jobs=-1, min_resources=\"exhaust\", factor=3\n",
    ")\n",
    "halving_cv_poly.fit(X_train, y_train)\n",
    "best_score_poly = halving_cv_poly.best_score_\n",
    "best_params_poly = halving_cv_poly.best_params_\n",
    "\n",
    "\n",
    "\n",
    "print(\"Best Parameters:\", best_params_poly)\n",
    "print(\"Best Score:\", best_score_poly)\n",
    "\n",
    "end = time.time()\n",
    "print(\"Runtime (sec.):\", end - start)"
   ]
  },
  {
   "cell_type": "code",
   "execution_count": 6,
   "metadata": {},
   "outputs": [
    {
     "name": "stdout",
     "output_type": "stream",
     "text": [
      "Best Parameters: {'C': 50, 'gamma': 0.01, 'kernel': 'rbf'}\n",
      "Best Score: 0.9970237967018072\n",
      "Runtime (sec.): 6.190552711486816\n"
     ]
    }
   ],
   "source": [
    "start = time.time()\n",
    "\n",
    "param_grid_rbf = [{'C': [0.1,10,20,30,40,50,60,70,80,90,100], 'gamma': [10,1,0.1,0.01,0.001,0.0001], 'kernel': ['rbf']},]\n",
    "\n",
    "\n",
    "svc = SVC()\n",
    "halving_cv_rbf = HalvingGridSearchCV(\n",
    "    svc, param_grid_rbf, scoring=\"roc_auc\", n_jobs=-1, min_resources=\"exhaust\", factor=3\n",
    ")\n",
    "halving_cv_rbf.fit(X_train, y_train)\n",
    "best_score_rbf = halving_cv_rbf.best_score_\n",
    "best_params_rbf = halving_cv_rbf.best_params_\n",
    "\n",
    "\n",
    "\n",
    "print(\"Best Parameters:\", best_params_rbf)\n",
    "print(\"Best Score:\", best_score_rbf)\n",
    "\n",
    "end = time.time()\n",
    "print(\"Runtime (sec.):\", end - start)"
   ]
  },
  {
   "cell_type": "code",
   "execution_count": 7,
   "metadata": {},
   "outputs": [
    {
     "name": "stdout",
     "output_type": "stream",
     "text": [
      "Best Parameters: {'C': 50, 'gamma': 0.001, 'kernel': 'sigmoid'}\n",
      "Best Score: 0.9963596357354746\n",
      "Runtime (sec.): 4.182135581970215\n"
     ]
    }
   ],
   "source": [
    "start = time.time()\n",
    "\n",
    "param_grid_sig = [{'C': [0.1,10,20,30,40,50,60,70,80,90,100], 'gamma': [10,1,0.1,0.01,0.001,0.0001], 'kernel': ['sigmoid']},]\n",
    "\n",
    "\n",
    "svc = SVC()\n",
    "halving_cv_sig = HalvingGridSearchCV(\n",
    "    svc, param_grid_sig, scoring=\"roc_auc\", n_jobs=-1, min_resources=\"exhaust\", factor=3\n",
    ")\n",
    "halving_cv_sig.fit(X_train, y_train)\n",
    "best_score_sig = halving_cv_sig.best_score_\n",
    "best_params_sig = halving_cv_sig.best_params_\n",
    "\n",
    "\n",
    "\n",
    "print(\"Best Parameters:\", best_params_sig)\n",
    "print(\"Best Score:\", best_score_sig)\n",
    "\n",
    "end = time.time()\n",
    "print(\"Runtime (sec.):\", end - start)"
   ]
  }
 ],
 "metadata": {
  "colab": {
   "provenance": []
  },
  "kernelspec": {
   "display_name": "Python 3",
   "language": "python",
   "name": "python3"
  },
  "language_info": {
   "codemirror_mode": {
    "name": "ipython",
    "version": 3
   },
   "file_extension": ".py",
   "mimetype": "text/x-python",
   "name": "python",
   "nbconvert_exporter": "python",
   "pygments_lexer": "ipython3",
   "version": "3.8.5"
  }
 },
 "nbformat": 4,
 "nbformat_minor": 1
}
