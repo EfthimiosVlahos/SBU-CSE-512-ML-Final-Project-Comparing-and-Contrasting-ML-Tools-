{
 "cells": [
  {
   "cell_type": "code",
   "execution_count": 1,
   "metadata": {},
   "outputs": [],
   "source": [
    "import pandas as pd\n",
    "import os\n",
    "from PIL import Image\n",
    "import numpy as np"
   ]
  },
  {
   "cell_type": "code",
   "execution_count": 2,
   "metadata": {},
   "outputs": [],
   "source": [
    "train_path = \"Training\"\n",
    "test_path = \"Validation\"\n",
    "\n",
    "train_female = \"Training/female\"\n",
    "train_male = \"Training/male\"\n",
    "\n",
    "test_female = \"Validation/female\"\n",
    "test_male = \"Validation/male\""
   ]
  },
  {
   "cell_type": "code",
   "execution_count": 4,
   "metadata": {},
   "outputs": [],
   "source": [
    "male_train=[]\n",
    "label = []\n",
    "for i in os.listdir(train_male):\n",
    "    image_path = train_male+ \"/\" + i\n",
    "    if os.path.isfile(image_path):\n",
    "        males = Image.open(image_path).convert(\"L\")# Converting grey scale\n",
    "        males = males.resize((50,50),Image.ANTIALIAS)\n",
    "        \n",
    "        males = np.asarray(males)/255.0# Normalizing Images\n",
    "        male_train.append(males)\n",
    "        label.append(1)# Label 1 for man"
   ]
  },
  {
   "cell_type": "code",
   "execution_count": 5,
   "metadata": {},
   "outputs": [],
   "source": [
    "female_train = []\n",
    "for i in os.listdir(train_female):\n",
    "    image_path = train_female+ \"/\" + i\n",
    "    if os.path.isfile(image_path):\n",
    "        females = Image.open(image_path)\n",
    "        females = females.resize((50,50),Image.ANTIALIAS).convert(\"L\")#Converting grey scale\n",
    "        \n",
    "        females = np.asarray(females)/255.0 # Normalizing Images\n",
    "        \n",
    "        female_train.append(females)\n",
    "        label.append(0)# 0 for woman"
   ]
  },
  {
   "cell_type": "code",
   "execution_count": 6,
   "metadata": {},
   "outputs": [],
   "source": [
    "x_train = np.concatenate((male_train,female_train),axis=0) # Training Dataset\n",
    "y_train = np.asarray(label)# Label array\n",
    "y_train = y_train.reshape(x_train.shape[0],1)"
   ]
  },
  {
   "cell_type": "code",
   "execution_count": 7,
   "metadata": {},
   "outputs": [],
   "source": [
    "male_test = []\n",
    "label2 = []\n",
    "for i in os.listdir(test_male):\n",
    "    image_path = test_male+ \"/\" + i\n",
    "    if os.path.isfile(image_path):\n",
    "        male_face = Image.open(image_path).convert(\"L\")#Convert grey scale\n",
    "        male_face = male_face.resize((50,50),Image.ANTIALIAS)\n",
    "        \n",
    "        male_face = np.asarray(male_face)/255.0 # Normalizing Images\n",
    "        male_test.append(male_face)\n",
    "        label2.append(1)# 1 for man"
   ]
  },
  {
   "cell_type": "code",
   "execution_count": 8,
   "metadata": {},
   "outputs": [],
   "source": [
    "female_test = []\n",
    "for i in os.listdir(test_female):\n",
    "    image_path = test_female+ \"/\" + i\n",
    "    if os.path.isfile(image_path):\n",
    "        female_face = Image.open(image_path).convert(\"L\")#Convert grey scale\n",
    "        female_face = female_face.resize((50,50),Image.ANTIALIAS)\n",
    "        \n",
    "        female_face = np.asarray(female_face)/255.0# Normalizing Image\n",
    "        female_test.append(female_face)\n",
    "        label2.append(0)# 0 for  woman"
   ]
  },
  {
   "cell_type": "code",
   "execution_count": 9,
   "metadata": {},
   "outputs": [],
   "source": [
    "x_test = np.concatenate((male_test,female_test),axis=0)#test dataset\n",
    "y_test = np.asarray(label2)\n",
    "y_test = y_test.reshape(x_test.shape[0],1)"
   ]
  },
  {
   "cell_type": "code",
   "execution_count": 10,
   "metadata": {},
   "outputs": [
    {
     "ename": "NameError",
     "evalue": "name 'x' is not defined",
     "output_type": "error",
     "traceback": [
      "\u001b[1;31m---------------------------------------------------------------------------\u001b[0m",
      "\u001b[1;31mNameError\u001b[0m                                 Traceback (most recent call last)",
      "\u001b[1;32m<ipython-input-10-d989de00fd17>\u001b[0m in \u001b[0;36m<module>\u001b[1;34m\u001b[0m\n\u001b[0;32m      2\u001b[0m \u001b[0my\u001b[0m \u001b[1;33m=\u001b[0m \u001b[0mnp\u001b[0m\u001b[1;33m.\u001b[0m\u001b[0mconcatenate\u001b[0m\u001b[1;33m(\u001b[0m\u001b[1;33m(\u001b[0m\u001b[0my_train\u001b[0m\u001b[1;33m,\u001b[0m\u001b[0my_test\u001b[0m\u001b[1;33m)\u001b[0m\u001b[1;33m,\u001b[0m\u001b[0maxis\u001b[0m\u001b[1;33m=\u001b[0m\u001b[1;36m0\u001b[0m\u001b[1;33m)\u001b[0m\u001b[1;33m\u001b[0m\u001b[1;33m\u001b[0m\u001b[0m\n\u001b[0;32m      3\u001b[0m \u001b[1;33m\u001b[0m\u001b[0m\n\u001b[1;32m----> 4\u001b[1;33m \u001b[0mX\u001b[0m \u001b[1;33m=\u001b[0m \u001b[0mx\u001b[0m\u001b[1;33m.\u001b[0m\u001b[0mreshape\u001b[0m\u001b[1;33m(\u001b[0m\u001b[0mx\u001b[0m\u001b[1;33m.\u001b[0m\u001b[0mshape\u001b[0m\u001b[1;33m[\u001b[0m\u001b[1;36m0\u001b[0m\u001b[1;33m]\u001b[0m\u001b[1;33m,\u001b[0m\u001b[0mx\u001b[0m\u001b[1;33m.\u001b[0m\u001b[0mshape\u001b[0m\u001b[1;33m[\u001b[0m\u001b[1;36m1\u001b[0m\u001b[1;33m]\u001b[0m\u001b[1;33m*\u001b[0m\u001b[0mx\u001b[0m\u001b[1;33m.\u001b[0m\u001b[0mshape\u001b[0m\u001b[1;33m[\u001b[0m\u001b[1;36m2\u001b[0m\u001b[1;33m]\u001b[0m\u001b[1;33m)\u001b[0m\u001b[1;31m# Convert 3D to 2D\u001b[0m\u001b[1;33m\u001b[0m\u001b[1;33m\u001b[0m\u001b[0m\n\u001b[0m",
      "\u001b[1;31mNameError\u001b[0m: name 'x' is not defined"
     ]
    }
   ],
   "source": [
    "X = np.concatenate((x_train,x_test),axis=0)\n",
    "y = np.concatenate((y_train,y_test),axis=0)\n",
    "\n",
    "X = x.reshape(x.shape[0],x.shape[1]*x.shape[2])# Convert 3D to 2D"
   ]
  },
  {
   "cell_type": "code",
   "execution_count": null,
   "metadata": {},
   "outputs": [],
   "source": [
    "X.shape"
   ]
  },
  {
   "cell_type": "code",
   "execution_count": null,
   "metadata": {},
   "outputs": [],
   "source": [
    "y.shape"
   ]
  },
  {
   "cell_type": "code",
   "execution_count": null,
   "metadata": {},
   "outputs": [],
   "source": []
  },
  {
   "cell_type": "code",
   "execution_count": 2,
   "metadata": {},
   "outputs": [],
   "source": [
    "misclass = pd.read_csv('Misclassified-Short.csv')"
   ]
  },
  {
   "cell_type": "code",
   "execution_count": 4,
   "metadata": {},
   "outputs": [],
   "source": [
    "misclass = misclass.iloc[: , 1:]"
   ]
  },
  {
   "cell_type": "code",
   "execution_count": 6,
   "metadata": {},
   "outputs": [],
   "source": [
    "female = misclass[misclass.gender == 0]\n",
    "male = misclass[misclass.gender == 1]"
   ]
  },
  {
   "cell_type": "code",
   "execution_count": 8,
   "metadata": {},
   "outputs": [],
   "source": [
    "male = male.drop(columns = ['gender', 'gender_predicted_svm_poly', 'gender_predicted_svm_rbf', 'gender_predicted_svm_sig', 'gender_predicted_randomforest', 'gender_predicted_ann'])"
   ]
  },
  {
   "cell_type": "code",
   "execution_count": 9,
   "metadata": {},
   "outputs": [],
   "source": [
    "female = female.drop(columns = ['gender', 'gender_predicted_svm_poly', 'gender_predicted_svm_rbf', 'gender_predicted_svm_sig', 'gender_predicted_randomforest', 'gender_predicted_ann'])"
   ]
  },
  {
   "cell_type": "code",
   "execution_count": 10,
   "metadata": {},
   "outputs": [],
   "source": [
    "image = male.iloc[1]"
   ]
  },
  {
   "cell_type": "code",
   "execution_count": 14,
   "metadata": {},
   "outputs": [],
   "source": [
    "image = image.to_numpy()"
   ]
  },
  {
   "cell_type": "code",
   "execution_count": 15,
   "metadata": {},
   "outputs": [],
   "source": [
    "image = np.reshape(image, (50,50))"
   ]
  },
  {
   "cell_type": "code",
   "execution_count": 16,
   "metadata": {},
   "outputs": [],
   "source": [
    "image = image * 255"
   ]
  },
  {
   "cell_type": "code",
   "execution_count": 20,
   "metadata": {},
   "outputs": [],
   "source": [
    "new_p = Image.fromarray(image)\n",
    "new_p = new_p.convert(\"L\")"
   ]
  },
  {
   "cell_type": "code",
   "execution_count": 21,
   "metadata": {},
   "outputs": [
    {
     "data": {
      "image/png": "[encoded data removed]",
      "text/plain": [
       "<PIL.Image.Image image mode=L size=50x50 at 0x19ECFCEEEB0>"
      ]
     },
     "execution_count": 21,
     "metadata": {},
     "output_type": "execute_result"
    }
   ],
   "source": [
    "new_p"
   ]
  },
  {
   "cell_type": "code",
   "execution_count": null,
   "metadata": {},
   "outputs": [],
   "source": [
    "new_p.save('male1.png')"
   ]
  },
  {
   "cell_type": "code",
   "execution_count": 23,
   "metadata": {},
   "outputs": [],
   "source": [
    "os.chdir('misclass_male')"
   ]
  },
  {
   "cell_type": "code",
   "execution_count": 33,
   "metadata": {},
   "outputs": [],
   "source": [
    "for i in range(male.shape[0]):\n",
    "    image = male.iloc[i]\n",
    "    image = image.to_numpy()\n",
    "    image = np.reshape(image, (50,50))\n",
    "    image = image * 255\n",
    "    image = Image.fromarray(image)\n",
    "    image = image.convert(\"L\")\n",
    "    filename = 'male_' + str(i) + '.png'\n",
    "    image.save(filename)"
   ]
  },
  {
   "cell_type": "code",
   "execution_count": 37,
   "metadata": {},
   "outputs": [],
   "source": [
    "os.chdir('C:\\\\Users\\\\ftbll\\\\Documents\\\\College\\\\Fall 2022\\\\CSE 512\\\\Project\\\\misclass_female')"
   ]
  },
  {
   "cell_type": "code",
   "execution_count": 38,
   "metadata": {},
   "outputs": [],
   "source": [
    "for i in range(female.shape[0]):\n",
    "    image = female.iloc[i]\n",
    "    image = image.to_numpy()\n",
    "    image = np.reshape(image, (50,50))\n",
    "    image = image * 255\n",
    "    image = Image.fromarray(image)\n",
    "    image = image.convert(\"L\")\n",
    "    filename = 'female_' + str(i) + '.png'\n",
    "    image.save(filename)"
   ]
  }
 ],
 "metadata": {
  "kernelspec": {
   "display_name": "Python 3",
   "language": "python",
   "name": "python3"
  },
  "language_info": {
   "codemirror_mode": {
    "name": "ipython",
    "version": 3
   },
   "file_extension": ".py",
   "mimetype": "text/x-python",
   "name": "python",
   "nbconvert_exporter": "python",
   "pygments_lexer": "ipython3",
   "version": "3.8.5"
  }
 },
 "nbformat": 4,
 "nbformat_minor": 4
}
